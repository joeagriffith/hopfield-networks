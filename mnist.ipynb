{
 "cells": [
  {
   "cell_type": "code",
   "execution_count": 2,
   "metadata": {},
   "outputs": [
    {
     "name": "stderr",
     "output_type": "stream",
     "text": [
      "c:\\Users\\Joe\\anaconda3\\envs\\ml-env\\lib\\site-packages\\tqdm\\auto.py:22: TqdmWarning: IProgress not found. Please update jupyter and ipywidgets. See https://ipywidgets.readthedocs.io/en/stable/user_install.html\n",
      "  from .autonotebook import tqdm as notebook_tqdm\n"
     ]
    }
   ],
   "source": [
    "import torch\n",
    "import torch.nn as nn\n",
    "import torch.optim as optim\n",
    "import torchvision.datasets as datasets\n",
    "import torchvision.transforms as transforms\n",
    "from torch.utils.data import DataLoader\n",
    "import torch.nn.functional as F\n",
    "from torch.optim.lr_scheduler import ReduceLROnPlateau\n",
    "\n",
    "from tqdm import tqdm\n",
    "import matplotlib.pyplot as plt\n",
    "\n",
    "from utils.dataset import PreloadedDataset\n",
    "from utils.train import train_denoise\n",
    "from utils.extra_funcs import HopfieldActivation\n",
    "from model import HopfieldNetwork"
   ]
  },
  {
   "cell_type": "code",
   "execution_count": 3,
   "metadata": {},
   "outputs": [],
   "source": [
    "device = torch.device(\"cuda\" if torch.cuda.is_available() else \"cpu\")"
   ]
  },
  {
   "cell_type": "code",
   "execution_count": 4,
   "metadata": {},
   "outputs": [
    {
     "name": "stderr",
     "output_type": "stream",
     "text": [
      "                                       "
     ]
    },
    {
     "name": "stdout",
     "output_type": "stream",
     "text": [
      "INPUT_SHAPE: torch.Size([1, 28, 28])\n",
      "Loaded MNIST dataset with 240 training samples\n"
     ]
    },
    {
     "name": "stderr",
     "output_type": "stream",
     "text": [
      "\r"
     ]
    }
   ],
   "source": [
    "DATA_RATIO = 0.005 # portion of dataset to use\n",
    "VAL_RATIO = 0.2\n",
    "\n",
    "transform = transforms.Compose([\n",
    "    transforms.ToTensor(),\n",
    "    HopfieldActivation(0.5), # set images to -1 or 1\n",
    "    # transforms.Normalize((0.1307,), (0.3081,)),\n",
    "    # transforms.RandomAffine(degrees=10, translate=(0.1, 0.1), scale=(0.9, 1.1))\n",
    "])\n",
    "\n",
    "dataset = datasets.MNIST(root=\"datasets/\", train=True, transform=transform, download=True)\n",
    "# reduce dataset size\n",
    "dataset = torch.utils.data.Subset(dataset, range(int(len(dataset) * DATA_RATIO)))\n",
    "# dataset = torch.utils.data.Subset(dataset, range(4))\n",
    "\n",
    "val_len = int(len(dataset) * VAL_RATIO)\n",
    "train_len = len(dataset) - val_len\n",
    "train_dataset, val_dataset = torch.utils.data.random_split(dataset, [train_len, val_len])\n",
    "train_dataset = PreloadedDataset.from_dataset(train_dataset, transforms.ToTensor(), device)\n",
    "# val_dataset = PreloadedDataset.from_dataset(val_dataset, transforms.ToTensor(), device)\n",
    "INPUT_SHAPE = train_dataset[0][0].shape\n",
    "NUM_CLASSES = 10\n",
    "print(f'INPUT_SHAPE: {INPUT_SHAPE}')\n",
    "print(f'Loaded MNIST dataset with {len(train_dataset)} training samples')#and {len(val_dataset)} validation samples')"
   ]
  },
  {
   "cell_type": "code",
   "execution_count": 5,
   "metadata": {},
   "outputs": [
    {
     "data": {
      "image/png": "[encoded data removed]",
      "text/plain": [
       "<Figure size 640x480 with 4 Axes>"
      ]
     },
     "metadata": {},
     "output_type": "display_data"
    }
   ],
   "source": [
    "# Show 4 random images from the training dataset in grid\n",
    "fig, ax = plt.subplots(2, 2)\n",
    "for i in range(2):\n",
    "    for j in range(2):\n",
    "        idx = torch.randint(0, len(train_dataset), (1,)).item()\n",
    "        image = train_dataset[idx][0].squeeze().cpu()\n",
    "        ax[i, j].imshow(image, cmap=\"gray\")\n",
    "        ax[i, j].set_title(train_dataset[idx][1])\n",
    "plt.show()\n"
   ]
  },
  {
   "cell_type": "code",
   "execution_count": 6,
   "metadata": {},
   "outputs": [],
   "source": [
    "# Hebbian Learning\n",
    "torch.manual_seed(42)\n",
    "model_name = \"mnist_hopfield_hebbian\"\n",
    "size = 1\n",
    "for dim in INPUT_SHAPE:\n",
    "    size *= dim\n",
    "model = HopfieldNetwork(size, bias=False, steps=5).to(device)\n",
    "step = 0"
   ]
  },
  {
   "cell_type": "code",
   "execution_count": 7,
   "metadata": {},
   "outputs": [
    {
     "name": "stderr",
     "output_type": "stream",
     "text": [
      "                                                                        \r"
     ]
    },
    {
     "name": "stdout",
     "output_type": "stream",
     "text": [
      "Epoch 00098: reducing learning rate of group 0 to 1.5000e-03.\n"
     ]
    },
    {
     "name": "stderr",
     "output_type": "stream",
     "text": [
      "                                                                         \r"
     ]
    },
    {
     "name": "stdout",
     "output_type": "stream",
     "text": [
      "Epoch 00149: reducing learning rate of group 0 to 7.5000e-04.\n"
     ]
    },
    {
     "name": "stderr",
     "output_type": "stream",
     "text": [
      "                                                                         \r"
     ]
    },
    {
     "name": "stdout",
     "output_type": "stream",
     "text": [
      "Epoch 00241: reducing learning rate of group 0 to 3.7500e-04.\n"
     ]
    },
    {
     "name": "stderr",
     "output_type": "stream",
     "text": [
      "                                                                         \r"
     ]
    },
    {
     "name": "stdout",
     "output_type": "stream",
     "text": [
      "Epoch 00292: reducing learning rate of group 0 to 1.8750e-04.\n"
     ]
    },
    {
     "name": "stderr",
     "output_type": "stream",
     "text": [
      "                                                                         \r"
     ]
    },
    {
     "name": "stdout",
     "output_type": "stream",
     "text": [
      "Epoch 00355: reducing learning rate of group 0 to 9.3750e-05.\n"
     ]
    },
    {
     "name": "stderr",
     "output_type": "stream",
     "text": [
      "                                                                         \r"
     ]
    },
    {
     "name": "stdout",
     "output_type": "stream",
     "text": [
      "Epoch 00406: reducing learning rate of group 0 to 4.6875e-05.\n"
     ]
    },
    {
     "name": "stderr",
     "output_type": "stream",
     "text": [
      "                                                                         \r"
     ]
    },
    {
     "name": "stdout",
     "output_type": "stream",
     "text": [
      "Epoch 00506: reducing learning rate of group 0 to 2.3438e-05.\n"
     ]
    },
    {
     "name": "stderr",
     "output_type": "stream",
     "text": [
      "                                                                         \r"
     ]
    },
    {
     "name": "stdout",
     "output_type": "stream",
     "text": [
      "Epoch 00557: reducing learning rate of group 0 to 1.1719e-05.\n"
     ]
    },
    {
     "name": "stderr",
     "output_type": "stream",
     "text": [
      "                                                                         \r"
     ]
    },
    {
     "name": "stdout",
     "output_type": "stream",
     "text": [
      "Epoch 00608: reducing learning rate of group 0 to 5.8594e-06.\n"
     ]
    },
    {
     "name": "stderr",
     "output_type": "stream",
     "text": [
      "                                                                         \r"
     ]
    },
    {
     "name": "stdout",
     "output_type": "stream",
     "text": [
      "Epoch 00659: reducing learning rate of group 0 to 2.9297e-06.\n"
     ]
    },
    {
     "name": "stderr",
     "output_type": "stream",
     "text": [
      "                                                                         \r"
     ]
    },
    {
     "name": "stdout",
     "output_type": "stream",
     "text": [
      "Epoch 00710: reducing learning rate of group 0 to 1.4648e-06.\n"
     ]
    },
    {
     "name": "stderr",
     "output_type": "stream",
     "text": [
      "                                                                         \r"
     ]
    },
    {
     "name": "stdout",
     "output_type": "stream",
     "text": [
      "Epoch 00761: reducing learning rate of group 0 to 7.3242e-07.\n"
     ]
    },
    {
     "name": "stderr",
     "output_type": "stream",
     "text": [
      "                                                                         \r"
     ]
    },
    {
     "name": "stdout",
     "output_type": "stream",
     "text": [
      "Epoch 00848: reducing learning rate of group 0 to 3.6621e-07.\n"
     ]
    },
    {
     "name": "stderr",
     "output_type": "stream",
     "text": [
      "                                                                         \r"
     ]
    },
    {
     "name": "stdout",
     "output_type": "stream",
     "text": [
      "Epoch 00899: reducing learning rate of group 0 to 1.8311e-07.\n"
     ]
    },
    {
     "name": "stderr",
     "output_type": "stream",
     "text": [
      "                                                                         \r"
     ]
    },
    {
     "name": "stdout",
     "output_type": "stream",
     "text": [
      "Epoch 00950: reducing learning rate of group 0 to 9.1553e-08.\n"
     ]
    },
    {
     "name": "stderr",
     "output_type": "stream",
     "text": [
      "                                                                          \r"
     ]
    },
    {
     "name": "stdout",
     "output_type": "stream",
     "text": [
      "Epoch 01001: reducing learning rate of group 0 to 4.5776e-08.\n"
     ]
    },
    {
     "name": "stderr",
     "output_type": "stream",
     "text": [
      "                                                                          \r"
     ]
    },
    {
     "name": "stdout",
     "output_type": "stream",
     "text": [
      "Epoch 01052: reducing learning rate of group 0 to 2.2888e-08.\n"
     ]
    },
    {
     "name": "stderr",
     "output_type": "stream",
     "text": [
      "Epoch [1074/5000]:   0%|          | 0/4 [00:00<?, ?it/s, train_energy=162]"
     ]
    }
   ],
   "source": [
    "LR = 3e-3\n",
    "BATCH_SIZE=64\n",
    "epochs = 5000\n",
    "criterion = nn.MSELoss()\n",
    "optimiser = optim.AdamW(model.parameters(), lr=LR)\n",
    "scheduler = ReduceLROnPlateau(optimiser, mode='min', min_lr=3e-9, factor=0.5, patience=50, verbose=True)\n",
    "energy, step = train_denoise(model, \n",
    "                             train_dataset, \n",
    "                             val_dataset, \n",
    "                             optimiser, \n",
    "                             scheduler, \n",
    "                             model_name, \n",
    "                             epochs, \n",
    "                             flatten=True, \n",
    "                             step=step, \n",
    "                             error=True, \n",
    "                             batch_size=BATCH_SIZE, \n",
    "                             minimise='loss', \n",
    "                             device=device)"
   ]
  },
  {
   "cell_type": "code",
   "execution_count": null,
   "metadata": {},
   "outputs": [
    {
     "name": "stdout",
     "output_type": "stream",
     "text": [
      "Final energy: 4.7912199079291895e-05\n"
     ]
    }
   ],
   "source": [
    "\n",
    "print(f\"Final energy: {energy[-1]}\")"
   ]
  },
  {
   "cell_type": "code",
   "execution_count": null,
   "metadata": {},
   "outputs": [
    {
     "data": {
      "image/png": "[encoded data removed]",
      "text/plain": [
       "<Figure size 640x480 with 1 Axes>"
      ]
     },
     "metadata": {},
     "output_type": "display_data"
    }
   ],
   "source": [
    "# plot energy over epochs\n",
    "plt.plot(energy)\n",
    "plt.yscale(\"log\")\n",
    "plt.title(\"Logarithmic Energy over epochs\")\n",
    "plt.xlabel(\"Epoch\")\n",
    "plt.ylabel(\"Energy\")\n",
    "plt.show()\n"
   ]
  },
  {
   "cell_type": "code",
   "execution_count": null,
   "metadata": {},
   "outputs": [
    {
     "data": {
      "image/png": "[encoded data removed]",
      "text/plain": [
       "<Figure size 640x480 with 2 Axes>"
      ]
     },
     "metadata": {},
     "output_type": "display_data"
    }
   ],
   "source": [
    "# Transform to zero lower third of image\n",
    "def mask_center_column(image, width=0.1):\n",
    "    image = image.clone()\n",
    "    image[:, image.shape[1] // 2 - int(image.shape[1] * width) // 2 : image.shape[1] // 2 + int(image.shape[1] * width) // 2] = -1.0\n",
    "    # image[2 * image.shape[0] // 3:, :] = -1.0\n",
    "    return image\n",
    "\n",
    "# Show original and masked image with subplots\n",
    "fig, ax = plt.subplots(1, 2)\n",
    "idx = torch.randint(0, len(train_dataset), (1,)).item()\n",
    "image = train_dataset[idx][0].squeeze().cpu()\n",
    "ax[0].imshow(image, cmap=\"gray\")\n",
    "ax[0].set_title(\"Original\")\n",
    "ax[1].imshow(mask_center_column(image), cmap=\"gray\")\n",
    "ax[1].set_title(\"Zero Lower Third\")\n",
    "plt.show()"
   ]
  },
  {
   "cell_type": "code",
   "execution_count": null,
   "metadata": {},
   "outputs": [
    {
     "data": {
      "text/plain": [
       "480"
      ]
     },
     "execution_count": 17,
     "metadata": {},
     "output_type": "execute_result"
    }
   ],
   "source": [
    "len(train_dataset)"
   ]
  },
  {
   "cell_type": "code",
   "execution_count": 27,
   "metadata": {},
   "outputs": [
    {
     "name": "stderr",
     "output_type": "stream",
     "text": [
      "c:\\Users\\Joe\\anaconda3\\envs\\ml-env\\lib\\site-packages\\ipykernel_launcher.py:12: UserWarning: To copy construct from a tensor, it is recommended to use sourceTensor.clone().detach() or sourceTensor.clone().detach().requires_grad_(True), rather than torch.tensor(sourceTensor).\n",
      "  if sys.path[0] == \"\":\n"
     ]
    },
    {
     "data": {
      "image/png": "[encoded data removed]",
      "text/plain": [
       "<Figure size 640x480 with 3 Axes>"
      ]
     },
     "metadata": {},
     "output_type": "display_data"
    }
   ],
   "source": [
    "# Test if model can reconstruct masked image\n",
    "\n",
    "model.to(\"cpu\")\n",
    "model.eval()\n",
    "\n",
    "# Get random image from dataset\n",
    "idx = torch.randint(0, len(train_dataset), (1,)).item()\n",
    "image = train_dataset[idx][0].squeeze().cpu()\n",
    "masked_image = mask_center_column(image)\n",
    "\n",
    "# Convert to tensor and flatten\n",
    "masked_image = torch.tensor(masked_image)\n",
    "reconstructed_image = model(masked_image.view(-1), steps=20).view(INPUT_SHAPE)\n",
    "\n",
    "# Plot original, masked and reconstructed image\n",
    "fig, ax = plt.subplots(1, 3)\n",
    "ax[0].imshow(image, cmap=\"gray\")\n",
    "ax[0].set_title(\"Original\")\n",
    "ax[1].imshow(masked_image, cmap=\"gray\")\n",
    "ax[1].set_title(\"Masked\")\n",
    "ax[2].imshow(reconstructed_image.detach().squeeze(0), cmap=\"gray\")\n",
    "ax[2].set_title(\"Reconstructed\")\n",
    "plt.show()"
   ]
  }
 ],
 "metadata": {
  "kernelspec": {
   "display_name": "ml-env",
   "language": "python",
   "name": "python3"
  },
  "language_info": {
   "codemirror_mode": {
    "name": "ipython",
    "version": 3
   },
   "file_extension": ".py",
   "mimetype": "text/x-python",
   "name": "python",
   "nbconvert_exporter": "python",
   "pygments_lexer": "ipython3",
   "version": "3.7.15"
  },
  "orig_nbformat": 4
 },
 "nbformat": 4,
 "nbformat_minor": 2
}
